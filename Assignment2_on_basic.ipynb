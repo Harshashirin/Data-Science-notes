{
  "nbformat": 4,
  "nbformat_minor": 0,
  "metadata": {
    "colab": {
      "provenance": []
    },
    "kernelspec": {
      "name": "python3",
      "display_name": "Python 3"
    },
    "language_info": {
      "name": "python"
    }
  },
  "cells": [
    {
      "cell_type": "markdown",
      "source": [
        "1. Write a Python program to accept a string value from the user and display the count of each character in that string. Sample input: Enter a string value: assembly Sample output: a=1, s=2, e=1, m=1, b=1, l=1, y=1"
      ],
      "metadata": {
        "id": "wOE2uBhLYiZa"
      }
    },
    {
      "cell_type": "code",
      "execution_count": null,
      "metadata": {
        "colab": {
          "base_uri": "https://localhost:8080/"
        },
        "id": "HNmpcR1pYanh",
        "outputId": "9df2c9f1-ea44-4d14-a3ed-ab7ba31dcac2"
      },
      "outputs": [
        {
          "output_type": "stream",
          "name": "stdout",
          "text": [
            "Enter a string value: what is the value of x?\n",
            "Occurrence of all characters in: what is the value of x? \n",
            " w=1, h=2, a=2, t=2,  =5, i=1, s=1, e=2, v=1, l=1, u=1, o=1, f=1, x=1, ?=1\n"
          ]
        }
      ],
      "source": [
        "def chara(s):\n",
        "    result = \"\"\n",
        "    seen_chars = set()\n",
        "    for char in s:\n",
        "        if char not in seen_chars:\n",
        "            count = s.count(char)\n",
        "            result += f\"{char}={count}, \"\n",
        "            seen_chars.add(char)\n",
        "    result = result.rstrip(\", \")\n",
        "    return result\n",
        "instr= input(\"Enter a string value: \")\n",
        "freq=chara(instr)\n",
        "print (f\"Occurrence of all characters in: {instr} \\n \"+ str(freq))"
      ]
    },
    {
      "cell_type": "markdown",
      "source": [
        "2. . Write a Python function to find the maximum of three numbers Sample input: 34,12,7......Sample output: 34"
      ],
      "metadata": {
        "id": "qHHnzqEtZEud"
      }
    },
    {
      "cell_type": "code",
      "source": [
        "def maximum(num1, num2, num3):\n",
        "    result = max(num1, num2, num3)\n",
        "    return result\n",
        "n1=int(input('Enter a number '))\n",
        "n2=int(input('Enter a number '))\n",
        "n3=int(input('Enter a number '))\n",
        "m = maximum(n1, n2, n3)\n",
        "print(\"Maximum number is:\", m)"
      ],
      "metadata": {
        "colab": {
          "base_uri": "https://localhost:8080/"
        },
        "id": "ryyHpCQ9Y4Xu",
        "outputId": "99eca81a-7277-4d7b-9bd0-d9bef222dcdf"
      },
      "execution_count": null,
      "outputs": [
        {
          "output_type": "stream",
          "name": "stdout",
          "text": [
            "Enter a number 34\n",
            "Enter a number 12\n",
            "Enter a number 7\n",
            "Maximum number is: 34\n"
          ]
        }
      ]
    },
    {
      "cell_type": "markdown",
      "source": [
        "3. Write a Python function called exponent(base,exp) that returns an integer value of base raises to the power of exp. Sample input: Enter the base: 2 Enter the exponent: 3 Sample output: 8"
      ],
      "metadata": {
        "id": "1MwH_NVCZV3T"
      }
    },
    {
      "cell_type": "code",
      "source": [
        "def exponent(base, exp):\n",
        "    result = 1\n",
        "    for i in range(exp):\n",
        "        result *= base\n",
        "    return result\n",
        "base = int(input(\"Enter the base: \"))\n",
        "exp = int(input(\"Enter the exponent: \"))\n",
        "print(\"Result:\", exponent(base, exp))\n"
      ],
      "metadata": {
        "id": "KqWqySLUZQBJ",
        "colab": {
          "base_uri": "https://localhost:8080/"
        },
        "outputId": "801f268c-eb64-4858-abaa-2da14204ae15"
      },
      "execution_count": 3,
      "outputs": [
        {
          "output_type": "stream",
          "name": "stdout",
          "text": [
            "Enter the base: 2\n",
            "Enter the exponent: 3\n",
            "Result: 8\n"
          ]
        }
      ]
    },
    {
      "cell_type": "markdown",
      "source": [
        "4. Write a Python function that takes a positive integer and returns the sum of the cube of all the positive integers smaller than the specified number. Sample input: 4 Sample output: 36."
      ],
      "metadata": {
        "id": "WRtMgvn5bSL4"
      }
    },
    {
      "cell_type": "code",
      "source": [
        "def cube(n):\n",
        "    sum = 0\n",
        "    for i in range(1, n):\n",
        "        sum+= i ** 3\n",
        "    return sum\n",
        "n = int(input(\"Enter a positive integer: \"))\n",
        "result = cube(n)\n",
        "print(f\"Sum of cubes of positive integers smaller than {n} is: {result}\")\n"
      ],
      "metadata": {
        "colab": {
          "base_uri": "https://localhost:8080/"
        },
        "id": "KA4OErBNbMzy",
        "outputId": "bb31ed4d-c77d-42e1-d6b7-6a67409d52e3"
      },
      "execution_count": 4,
      "outputs": [
        {
          "output_type": "stream",
          "name": "stdout",
          "text": [
            "Enter a positive integer: 4\n",
            "Sum of cubes of positive integers smaller than 4 is: 36\n"
          ]
        }
      ]
    },
    {
      "cell_type": "markdown",
      "source": [
        "5. Write a Python program which iterates from 1 to 10. For multiples of 2, print “Fizz” instead of the number and for the multiples of 5, print “Buzz”. For numbers which are multiples of both 2 and 5, print “FizzBuzz”. Sample input: numbers from 1 to 10 Sample output: 1 Fizz 3 Fizz Buzz Fizz 7 Fizz 9 FizzBuzz"
      ],
      "metadata": {
        "id": "vRmcJTrPb0Ch"
      }
    },
    {
      "cell_type": "code",
      "source": [
        "for i in range(1,11):\n",
        "  if(i%2==0 and i%5==0):\n",
        "    print('FizzBuzz',end=\" \")\n",
        "  elif(i%2==0):\n",
        "    print(\"Fizz\",end=\" \")\n",
        "  elif(i%5==0):\n",
        "    print(\"Buzz\",end=\" \")\n",
        "  else:\n",
        "    print(i,end=\" \")"
      ],
      "metadata": {
        "colab": {
          "base_uri": "https://localhost:8080/"
        },
        "id": "6aAukUJWbrE4",
        "outputId": "0c681e6f-da77-4674-ec71-56d1731fba2c"
      },
      "execution_count": 5,
      "outputs": [
        {
          "output_type": "stream",
          "name": "stdout",
          "text": [
            "1 Fizz 3 Fizz Buzz Fizz 7 Fizz 9 FizzBuzz "
          ]
        }
      ]
    },
    {
      "cell_type": "markdown",
      "source": [
        "6.Write a Python program to find the most frequent item in a list of numbers. Sample input: 2, 3, 4, 2, 5, 2 Sample output: 2"
      ],
      "metadata": {
        "id": "q4GU4Y6db-P5"
      }
    },
    {
      "cell_type": "code",
      "source": [
        "def item(list1):\n",
        "    list1.sort()\n",
        "    max = 0\n",
        "    most= None\n",
        "\n",
        "    count = 1\n",
        "    item = list1[0]\n",
        "    for i in range(1, len(list1)):\n",
        "        if list1[i] == item:\n",
        "            count += 1\n",
        "        else:\n",
        "            if count > max:\n",
        "                max= count\n",
        "                most = item\n",
        "\n",
        "            item = list1[i]\n",
        "            count = 1\n",
        "    if count > max:\n",
        "        most= item\n",
        "    return most\n",
        "s=int(input('What is the size of list '))\n",
        "d=[]\n",
        "su=0\n",
        "for i in range(s):\n",
        "  num=int(input('Number= '))\n",
        "  d.append(num)\n",
        "print(d)\n",
        "result = item(d)\n",
        "print(\"Most frequent item in the list is:\", result)\n"
      ],
      "metadata": {
        "colab": {
          "base_uri": "https://localhost:8080/"
        },
        "id": "2tzPROfxb8T7",
        "outputId": "2993f6d3-cc6d-4acd-c93f-1590e96f43e3"
      },
      "execution_count": 6,
      "outputs": [
        {
          "output_type": "stream",
          "name": "stdout",
          "text": [
            "What is the size of list 6\n",
            "Number= 2\n",
            "Number= 3\n",
            "Number= 4\n",
            "Number= 2\n",
            "Number= 5\n",
            "Number= 2\n",
            "[2, 3, 4, 2, 5, 2]\n",
            "Most frequent item in the list is: 2\n"
          ]
        }
      ]
    },
    {
      "cell_type": "markdown",
      "source": [
        "7. Write a Python program to find the sum of squares of the numbers in a list. Sample input: 2,1,3,1 Sample output: 15"
      ],
      "metadata": {
        "id": "c0Jngwotcd5o"
      }
    },
    {
      "cell_type": "code",
      "source": [
        "def squares(numbers):\n",
        "    sum = 0\n",
        "    for num in numbers:\n",
        "        sum += num ** 2\n",
        "    return sum\n",
        "s=int(input('What is the size of list '))\n",
        "d=[]\n",
        "su=0\n",
        "for i in range(s):\n",
        "  num=int(input('Number= '))\n",
        "  d.append(num)\n",
        "print(d)\n",
        "result = squares(d)\n",
        "print(\"Sum of squares of the numbers in the list is:\", result)\n"
      ],
      "metadata": {
        "colab": {
          "base_uri": "https://localhost:8080/"
        },
        "id": "Csjvzhg6cSfq",
        "outputId": "9ea8459a-bfb4-4da3-f248-5836c635005e"
      },
      "execution_count": 7,
      "outputs": [
        {
          "output_type": "stream",
          "name": "stdout",
          "text": [
            "What is the size of list 4\n",
            "Number= 2\n",
            "Number= 1\n",
            "Number= 3\n",
            "Number= 1\n",
            "[2, 1, 3, 1]\n",
            "Sum of squares of the numbers in the list is: 15\n"
          ]
        }
      ]
    },
    {
      "cell_type": "markdown",
      "source": [
        "8. Write a Python program using for loop that will iterate from 1 to 15. For each iteration, check if the current number is odd or even, and display the message to the screen as odd or even. Sample input: 1….15 Sample output: 1-odd 2-even …. 15-odd"
      ],
      "metadata": {
        "id": "WOtt6vLZdDXe"
      }
    },
    {
      "cell_type": "code",
      "source": [
        "for i in range(1, 16):\n",
        "    if i % 2 == 0:\n",
        "        print(i, \"- even\")\n",
        "    else:\n",
        "        print(i, \"- odd\")\n"
      ],
      "metadata": {
        "colab": {
          "base_uri": "https://localhost:8080/"
        },
        "id": "zW_Whvuac6ao",
        "outputId": "61fb5d58-61a2-43e7-aa6b-1d4e2de675d8"
      },
      "execution_count": 8,
      "outputs": [
        {
          "output_type": "stream",
          "name": "stdout",
          "text": [
            "1 - odd\n",
            "2 - even\n",
            "3 - odd\n",
            "4 - even\n",
            "5 - odd\n",
            "6 - even\n",
            "7 - odd\n",
            "8 - even\n",
            "9 - odd\n",
            "10 - even\n",
            "11 - odd\n",
            "12 - even\n",
            "13 - odd\n",
            "14 - even\n",
            "15 - odd\n"
          ]
        }
      ]
    },
    {
      "cell_type": "markdown",
      "source": [
        "9. Write a Python program to convert temperatures to and from Celsius Fahrenheit. [Formula: c/5=f-32/9 where c=temperature in Celsius and f= temperature in Fahrenheit.] Sample input: Temperature in Fahrenheit =41 Sample output: Temperature in Celsius =5"
      ],
      "metadata": {
        "id": "EhyqF_eCdfLp"
      }
    },
    {
      "cell_type": "code",
      "source": [
        "def fahrenheit(celsius):\n",
        "    fahrenheit = (celsius * 9/5) + 32\n",
        "    return fahrenheit\n",
        "def celsius(fahrenheit):\n",
        "    celsius = (fahrenheit - 32) * 5/9\n",
        "    return celsius\n",
        "choice = input(\"Enter 'F' for Fahrenheit, or 'C' for Celsius: \")\n",
        "if choice == 'F':\n",
        "    celsius = float(input(\"Enter temperature in Celsius: \"))\n",
        "    fahrenheit = fahrenheit(celsius)\n",
        "    print(f\"{celsius} Celsius is equal to {fahrenheit} Fahrenheit\")\n",
        "elif choice == 'C':\n",
        "    fahrenheit = float(input(\"Enter temperature in Fahrenheit: \"))\n",
        "    celsius = celsius(fahrenheit)\n",
        "    print(f\"{fahrenheit} Fahrenheit is equal to {celsius} Celsius\")\n",
        "else:\n",
        "    print(\"Invalid choice\")"
      ],
      "metadata": {
        "colab": {
          "base_uri": "https://localhost:8080/"
        },
        "id": "f7gbZp25ddXs",
        "outputId": "ef6b7a87-fd56-4e39-9418-392d22a66ca3"
      },
      "execution_count": 10,
      "outputs": [
        {
          "output_type": "stream",
          "name": "stdout",
          "text": [
            "Enter 'F' for Fahrenheit, or 'C' for Celsius: F\n",
            "Enter temperature in Celsius: 5\n",
            "5.0 Celsius is equal to 41.0 Fahrenheit\n"
          ]
        }
      ]
    },
    {
      "cell_type": "markdown",
      "source": [
        "10. Write a Python function to calculate the factorial of a number (a nonnegative integer). The function accepts the number as an argument. Sample input: 3 Sample output: 6"
      ],
      "metadata": {
        "id": "0ErGVJcNeNWQ"
      }
    },
    {
      "cell_type": "code",
      "source": [
        "def fact(n):\n",
        "  if n < 0:\n",
        "    return None\n",
        "  elif n==1:\n",
        "    return n\n",
        "  else:\n",
        "    return n*fact(n-1)\n",
        "inp=int(input(\"Enter a number\"))\n",
        "print(f\"Factorial of {inp} is {fact(inp)}\")"
      ],
      "metadata": {
        "colab": {
          "base_uri": "https://localhost:8080/"
        },
        "id": "_8ZGMtx7durP",
        "outputId": "3dcb7469-9422-497b-f992-332b1df109e8"
      },
      "execution_count": 11,
      "outputs": [
        {
          "output_type": "stream",
          "name": "stdout",
          "text": [
            "Enter a number3\n",
            "Factorial of 3 is 6\n"
          ]
        }
      ]
    },
    {
      "cell_type": "code",
      "source": [],
      "metadata": {
        "id": "0dLSZTTkemek"
      },
      "execution_count": 11,
      "outputs": []
    }
  ]
}