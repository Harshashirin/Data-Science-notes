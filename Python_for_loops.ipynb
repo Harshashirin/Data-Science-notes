{
  "nbformat": 4,
  "nbformat_minor": 0,
  "metadata": {
    "colab": {
      "provenance": []
    },
    "kernelspec": {
      "name": "python3",
      "display_name": "Python 3"
    },
    "language_info": {
      "name": "python"
    }
  },
  "cells": [
    {
      "cell_type": "markdown",
      "source": [
        "1.Take input of age of 3 people by user and determine oldest and youngest among them"
      ],
      "metadata": {
        "id": "aB7CO40gY33g"
      }
    },
    {
      "cell_type": "code",
      "execution_count": 3,
      "metadata": {
        "colab": {
          "base_uri": "https://localhost:8080/"
        },
        "id": "YQDnz9uMQR0Y",
        "outputId": "9042f99b-df0d-4e6c-80e5-18cd44031f85"
      },
      "outputs": [
        {
          "output_type": "stream",
          "name": "stdout",
          "text": [
            "Enter age 1 2\n",
            "Enter age 2 7\n",
            "Enter age 3 9\n",
            "9 is largest\n",
            "2 is youngest\n"
          ]
        }
      ],
      "source": [
        "m=int(input('Enter age 1 '))\n",
        "n=int(input('Enter age 2 '))\n",
        "r=int(input('Enter age 3 '))\n",
        "if(m>n and n>r):\n",
        "  print(f'{p} is largest')\n",
        "elif(n>m and n>r):\n",
        "  print(f'{n} is largest')\n",
        "else:\n",
        "  print(f'{r} is largest')\n",
        "if(m<n and m<r):\n",
        "  print(f'{m} is youngest')\n",
        "elif(m<n and n<\n",
        "     r):\n",
        "  print(f'{n} is youngest')\n",
        "else:\n",
        "  print(f'{r} is youngest')"
      ]
    },
    {
      "cell_type": "markdown",
      "source": [
        "2.Write a program that asks the user for their exam score and calculates their grade based on the following conditions:\n",
        "a)A score of 90 or above is an A.\n",
        "b)A score between 80 and 89 is a B.\n",
        "c)A score between 70 and 79 is a C.\n",
        "d)A score below 70 is an F."
      ],
      "metadata": {
        "id": "6Nb6Lb8rY_78"
      }
    },
    {
      "cell_type": "code",
      "source": [
        "mark=int(input('Enter mark '))\n",
        "if(mark>=90):\n",
        "  print('A')\n",
        "elif(mark>=80):\n",
        "  print('B')\n",
        "elif(mark>=70):\n",
        "  print('C')\n",
        "else:\n",
        "  print('F')"
      ],
      "metadata": {
        "colab": {
          "base_uri": "https://localhost:8080/"
        },
        "id": "BKBtqKYbQVjZ",
        "outputId": "a32fed05-9e6d-4dcb-bc88-461399fc5e44"
      },
      "execution_count": 7,
      "outputs": [
        {
          "output_type": "stream",
          "name": "stdout",
          "text": [
            "Enter mark 90\n",
            "A\n"
          ]
        }
      ]
    },
    {
      "cell_type": "markdown",
      "source": [
        "3.Create a program that asks the user for a list of grocery items they need to buy and organizes the list alphabetically."
      ],
      "metadata": {
        "id": "snFi1YEZiunZ"
      }
    },
    {
      "cell_type": "code",
      "source": [
        "size=int(input('Number of elements in yours in your list'))\n",
        "list1=[]\n",
        "for i in range(1,size+1):\n",
        "  l=(input('Enter ur list element '))\n",
        "  list1.append(l)\n",
        "list1.sort()\n",
        "list1"
      ],
      "metadata": {
        "colab": {
          "base_uri": "https://localhost:8080/"
        },
        "id": "xu--DSqhaZ5Q",
        "outputId": "6d858907-01d2-4438-a818-6defe9ce6bfb"
      },
      "execution_count": 8,
      "outputs": [
        {
          "name": "stdout",
          "output_type": "stream",
          "text": [
            "Number of elements in yours in your list3\n",
            "Enter ur list element bread\n",
            "Enter ur list element jam\n",
            "Enter ur list element butter\n"
          ]
        },
        {
          "output_type": "execute_result",
          "data": {
            "text/plain": [
              "['bread', 'butter', 'jam']"
            ]
          },
          "metadata": {},
          "execution_count": 8
        }
      ]
    },
    {
      "cell_type": "markdown",
      "source": [
        "4.Write a program that asks the user for an email address and checks if it is valid (contains an \"@\" symbol and a valid domain)."
      ],
      "metadata": {
        "id": "chf16YZ2jzSx"
      }
    },
    {
      "cell_type": "code",
      "source": [
        "domain=['mail.com','mail.cc','mail.org','mail-archive.com']\n",
        "flag=1\n",
        "while(flag==1):\n",
        "  mail=input('Enter ur mail ')\n",
        "  if(mail.count('@')!=True):\n",
        "    print(f\"The email address {mail} is not valid. Please enter a valid email address.\")\n",
        "    continue\n",
        "  local, d = mail.split(\"@\")\n",
        "  for dom in domain:\n",
        "            if d.endswith(dom):\n",
        "                flag=0\n",
        "                break\n",
        "  else:\n",
        "     print(f\"The email address {mail} is not valid. Please enter a valid email address.\")"
      ],
      "metadata": {
        "colab": {
          "base_uri": "https://localhost:8080/"
        },
        "id": "wlsIQ1WDjnYB",
        "outputId": "2d9895a6-9013-4fc2-f013-ae83f6f74a0e"
      },
      "execution_count": 10,
      "outputs": [
        {
          "name": "stdout",
          "output_type": "stream",
          "text": [
            "The email address christo@manoj is not valid. Please enter a valid email address.\n",
            "The email address christo@manoj.com is not valid. Please enter a valid email address.\n",
            "Enter ur mail christomanoj@gmail.com\n"
          ]
        }
      ]
    },
    {
      "cell_type": "markdown",
      "source": [
        "Write a program that checks if a given character is a vowel. Use the in operator to check if the character is present in a string of vowels (\"aeiou\")."
      ],
      "metadata": {
        "id": "qEsdLKWFqD47"
      }
    },
    {
      "cell_type": "code",
      "source": [
        "vowels=['a','e','i','o','u']\n",
        "chrtr=input('Enter a charactor ')\n",
        "for i in vowels:\n",
        "  if chrtr==i:\n",
        "    print('vowel')\n",
        "    break\n",
        "else:\n",
        "   print('Not a vowel')"
      ],
      "metadata": {
        "colab": {
          "base_uri": "https://localhost:8080/"
        },
        "id": "EUuH0kYNlpMi",
        "outputId": "6e63cb76-74e2-4fd4-c238-a6efc324fbeb"
      },
      "execution_count": 12,
      "outputs": [
        {
          "output_type": "stream",
          "name": "stdout",
          "text": [
            "Enter a charactor b\n",
            "Not a vowel\n"
          ]
        }
      ]
    },
    {
      "cell_type": "markdown",
      "source": [
        "Write a menu driven calculator with following menu:\n",
        "a.\n",
        "Addition\n",
        "b.\n",
        "Subtraction\n",
        "c.\n",
        "Division\n",
        "d.\n",
        "Multiplication\n",
        "e.\n",
        "Exit"
      ],
      "metadata": {
        "id": "nWWxnpAFqvMZ"
      }
    },
    {
      "cell_type": "code",
      "source": [
        "p=True\n",
        "n1=int(input('Enter the first number '))\n",
        "n2=int(input('Enter the second number '))\n",
        "for j in range(2):\n",
        " while(p):\n",
        "  print('add')\n",
        "  print('sub')\n",
        "  print('mul')\n",
        "  print('div')\n",
        "  print('exit')\n",
        "  op=input(\"Enter the operation of your choice: \")\n",
        "  if(op=='add'):\n",
        "   print(n1+n2)\n",
        "  elif(op=='sub'):\n",
        "   print(n1-n2)\n",
        "  elif(op=='mul'):\n",
        "   print(n1*n2)\n",
        "  elif(op=='div'):\n",
        "   print(n1/n2)\n",
        "  elif(op=='exit'):\n",
        "   p=False\n",
        "  else:\n",
        "     print('Select correct option')"
      ],
      "metadata": {
        "colab": {
          "base_uri": "https://localhost:8080/"
        },
        "id": "9hVmqbjsqYEn",
        "outputId": "29fd1a51-81b3-47f7-fd22-f0db4d18946b"
      },
      "execution_count": 13,
      "outputs": [
        {
          "name": "stdout",
          "output_type": "stream",
          "text": [
            "Enter the first number 2\n",
            "Enter the second number 3\n",
            "add\n",
            "sub\n",
            "mul\n",
            "div\n",
            "exit\n",
            "Enter the operation of your choice: add\n",
            "5\n",
            "add\n",
            "sub\n",
            "mul\n",
            "div\n",
            "exit\n",
            "Enter the operation of your choice: sub\n",
            "-1\n",
            "add\n",
            "sub\n",
            "mul\n",
            "div\n",
            "exit\n",
            "Enter the operation of your choice: mul\n",
            "6\n",
            "add\n",
            "sub\n",
            "mul\n",
            "div\n",
            "exit\n",
            "Enter the operation of your choice: div\n",
            "0.6666666666666666\n",
            "add\n",
            "sub\n",
            "mul\n",
            "div\n",
            "exit\n",
            "Enter the operation of your choice: exit\n"
          ]
        }
      ]
    },
    {
      "cell_type": "markdown",
      "source": [
        "Generate the Fibonacci sequence (0, 1, 1, 2, 3, ...) up to a certain limit using a loop."
      ],
      "metadata": {
        "id": "bUIN91Rwr1vq"
      }
    },
    {
      "cell_type": "code",
      "source": [
        "lim= int(input(\"Enter the limit: \"))\n",
        "f=0\n",
        "s=1\n",
        "print(f)\n",
        "print(s)\n",
        "for i in range(1,lim-1):\n",
        "  t=f+s\n",
        "  f=s\n",
        "  s=t\n",
        "  print(t)"
      ],
      "metadata": {
        "colab": {
          "base_uri": "https://localhost:8080/"
        },
        "id": "TtTF0kxPr_-L",
        "outputId": "90ee7501-ae12-4f1b-b744-4082a27acecc"
      },
      "execution_count": 16,
      "outputs": [
        {
          "output_type": "stream",
          "name": "stdout",
          "text": [
            "Enter the limit: 10\n",
            "0\n",
            "1\n",
            "1\n",
            "2\n",
            "3\n",
            "5\n",
            "8\n",
            "13\n",
            "21\n",
            "34\n"
          ]
        }
      ]
    },
    {
      "cell_type": "code",
      "source": [],
      "metadata": {
        "id": "v5DdkhoTsqcG"
      },
      "execution_count": 16,
      "outputs": []
    }
  ]
}
