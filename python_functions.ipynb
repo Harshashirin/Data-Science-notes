{
  "nbformat": 4,
  "nbformat_minor": 0,
  "metadata": {
    "colab": {
      "provenance": []
    },
    "kernelspec": {
      "name": "python3",
      "display_name": "Python 3"
    },
    "language_info": {
      "name": "python"
    }
  },
  "cells": [
    {
      "cell_type": "markdown",
      "source": [
        "1.\n",
        "Write a function to find the maximum of three numbers and return the result."
      ],
      "metadata": {
        "id": "djLPy8fwT2Vp"
      }
    },
    {
      "cell_type": "code",
      "source": [
        "def maximum(n1,n2,n3):\n",
        "    if n1>n2 and n1>n3:\n",
        "        print(f'Maximum value : {n1}')\n",
        "    elif n2>n1 and n2>n3:\n",
        "        print(f'Maximum value : {n2}')\n",
        "    else:\n",
        "        print(f'Maximum value : {n3}')\n",
        "n1=int(input(\"Enter first number : \"))\n",
        "n2=int(input(\"Enter second number : \"))\n",
        "n3=int(input(\"Enter third number : \"))\n",
        "maximum(n1,n2,n3)"
      ],
      "metadata": {
        "colab": {
          "base_uri": "https://localhost:8080/"
        },
        "id": "ta_Wq2CbVNZb",
        "outputId": "0274c7cd-5531-4228-a540-bd0be86045ca"
      },
      "execution_count": 8,
      "outputs": [
        {
          "output_type": "stream",
          "name": "stdout",
          "text": [
            "Enter first number : 2\n",
            "Enter second number : 6\n",
            "Enter third number : 8\n",
            "Maximum value : 8\n"
          ]
        }
      ]
    },
    {
      "cell_type": "markdown",
      "source": [
        "2.\n",
        "Implement a function to calculate the area of a circle given the radius"
      ],
      "metadata": {
        "id": "T0sT3ELjaATW"
      }
    },
    {
      "cell_type": "code",
      "source": [
        "def area(r):\n",
        "  circle_area=3.14*r**2\n",
        "  print(f\"area of a circle:{circle_area}\")\n",
        "r=float(input(\"radius:\"))\n",
        "area(r)\n",
        "\n"
      ],
      "metadata": {
        "colab": {
          "base_uri": "https://localhost:8080/"
        },
        "id": "Sm4ge6i8ZlC9",
        "outputId": "47c01681-94e2-4040-9807-0f687ff11d9c"
      },
      "execution_count": 14,
      "outputs": [
        {
          "output_type": "stream",
          "name": "stdout",
          "text": [
            "radius:3\n",
            "area of a circle:28.26\n"
          ]
        }
      ]
    },
    {
      "cell_type": "markdown",
      "source": [
        "3.Create a function to check if a given number is prime or not, and return a boolean result."
      ],
      "metadata": {
        "id": "jbavj0Jidk85"
      }
    },
    {
      "cell_type": "code",
      "source": [
        "def prime(n):\n",
        "    for i in range(2,n):\n",
        "        if n%i==0:\n",
        "            return False\n",
        "    else:\n",
        "        return True\n",
        "n=int(input(\"Enter a number : \"))\n",
        "prime(n)"
      ],
      "metadata": {
        "colab": {
          "base_uri": "https://localhost:8080/"
        },
        "id": "hRNTOcbTc5eK",
        "outputId": "cf04470a-e592-4676-9152-200d4ce07dbb"
      },
      "execution_count": 15,
      "outputs": [
        {
          "name": "stdout",
          "output_type": "stream",
          "text": [
            "Enter a number : 7\n"
          ]
        },
        {
          "output_type": "execute_result",
          "data": {
            "text/plain": [
              "True"
            ]
          },
          "metadata": {},
          "execution_count": 15
        }
      ]
    },
    {
      "cell_type": "markdown",
      "source": [
        "4.Create a function to check if a given string is a palindrome and return a boolean result"
      ],
      "metadata": {
        "id": "en8MJrE8d0Wn"
      }
    },
    {
      "cell_type": "code",
      "source": [
        "def palindrome(string):\n",
        "    if string==string[::-1]:\n",
        "        return True\n",
        "    else:\n",
        "        return False\n",
        "string=input(\"Enter the string : \")\n",
        "palindrome(string)"
      ],
      "metadata": {
        "colab": {
          "base_uri": "https://localhost:8080/"
        },
        "id": "WV9N-kEpds2g",
        "outputId": "0826fa40-7609-4fbc-a363-c624a2f07d52"
      },
      "execution_count": 41,
      "outputs": [
        {
          "name": "stdout",
          "output_type": "stream",
          "text": [
            "Enter the string : 2\n"
          ]
        },
        {
          "output_type": "execute_result",
          "data": {
            "text/plain": [
              "True"
            ]
          },
          "metadata": {},
          "execution_count": 41
        }
      ]
    },
    {
      "cell_type": "markdown",
      "source": [
        "5.Implement a function to calculate the sum of all numbers in a list and return the sum."
      ],
      "metadata": {
        "id": "q-RlBFqbd8_R"
      }
    },
    {
      "cell_type": "code",
      "source": [
        "def sum_of_all(list1):\n",
        "    sum=0\n",
        "    for i in list1:\n",
        "        sum+=i\n",
        "    return sum\n",
        "list1=[4,7,1,9,3]\n",
        "print(list1)\n",
        "sum_of_all(list1)"
      ],
      "metadata": {
        "colab": {
          "base_uri": "https://localhost:8080/"
        },
        "id": "1pY3mwkRd5i7",
        "outputId": "97650910-e603-444c-951f-2e9aeecf743f"
      },
      "execution_count": 42,
      "outputs": [
        {
          "output_type": "stream",
          "name": "stdout",
          "text": [
            "[4, 7, 1, 9, 3]\n"
          ]
        },
        {
          "output_type": "execute_result",
          "data": {
            "text/plain": [
              "24"
            ]
          },
          "metadata": {},
          "execution_count": 42
        }
      ]
    },
    {
      "cell_type": "markdown",
      "source": [
        "6.Create a function to find the average of a list of numbers and return the average value."
      ],
      "metadata": {
        "id": "ufijp90jeVLp"
      }
    },
    {
      "cell_type": "code",
      "source": [
        "def average(list2):\n",
        "    sum=0\n",
        "    for i in list2:\n",
        "        sum+=i\n",
        "    avg=sum/len(list2)\n",
        "    return avg\n",
        "list2=[5,1,3,4,5]\n",
        "average(list2)"
      ],
      "metadata": {
        "colab": {
          "base_uri": "https://localhost:8080/"
        },
        "id": "s7y2VQXieIZK",
        "outputId": "f2203d78-ff67-4599-a7c2-e732e0d58612"
      },
      "execution_count": 43,
      "outputs": [
        {
          "output_type": "execute_result",
          "data": {
            "text/plain": [
              "3.6"
            ]
          },
          "metadata": {},
          "execution_count": 43
        }
      ]
    },
    {
      "cell_type": "markdown",
      "source": [
        "7.Write a function to find the kth largest element in an unsorted list.\n",
        "\n",
        "\n",
        "\n"
      ],
      "metadata": {
        "id": "sE8lQSiKezOm"
      }
    },
    {
      "cell_type": "code",
      "source": [
        "def kth_largest(list3,k):\n",
        "    list3.sort(reverse=True)\n",
        "    print(f'{k}th largest element : {list3[k-1]}' )\n",
        "list3=[1,2,3,4,5]\n",
        "k=3\n",
        "print(list3)\n",
        "kth_largest(list3,k)"
      ],
      "metadata": {
        "colab": {
          "base_uri": "https://localhost:8080/"
        },
        "id": "hSatdS7aesml",
        "outputId": "a1f4f33b-ad0f-4181-bdb7-faaec312803a"
      },
      "execution_count": 20,
      "outputs": [
        {
          "output_type": "stream",
          "name": "stdout",
          "text": [
            "[1, 2, 3, 4, 5]\n",
            "3th largest element : 3\n"
          ]
        }
      ]
    },
    {
      "cell_type": "markdown",
      "source": [
        "8.Write a recursive function to find the sum of digits of a positive integer."
      ],
      "metadata": {
        "id": "Wsa2lTJxe7zV"
      }
    },
    {
      "cell_type": "code",
      "source": [
        "def sum_of_digits(integer):\n",
        "    if integer<10:\n",
        "        return integer\n",
        "    else:\n",
        "        return integer%10 + sum_of_digits(integer//10)\n",
        "integer=2134\n",
        "sum_of_digits(integer)"
      ],
      "metadata": {
        "colab": {
          "base_uri": "https://localhost:8080/"
        },
        "id": "WUNrlbW9e6ei",
        "outputId": "a81e6128-9cb2-44ed-c8d6-96bb561104ba"
      },
      "execution_count": 21,
      "outputs": [
        {
          "output_type": "execute_result",
          "data": {
            "text/plain": [
              "10"
            ]
          },
          "metadata": {},
          "execution_count": 21
        }
      ]
    },
    {
      "cell_type": "markdown",
      "source": [
        "9.Write a recursive function to calculate the power of a number."
      ],
      "metadata": {
        "id": "V_uRHHEdfLg8"
      }
    },
    {
      "cell_type": "code",
      "source": [
        "def power_of_number(base,exp):\n",
        "    if exp==0:\n",
        "        return 1\n",
        "    else:\n",
        "        for i in range(exp):\n",
        "            return base*power_of_number(base,exp-1)\n",
        "base=int(input(\"Enter base value : \"))\n",
        "exp=int(input(\"Enter exponent value : \"))\n",
        "powr=power_of_number(base,exp)\n",
        "print(f'Power of the number : {powr}')"
      ],
      "metadata": {
        "colab": {
          "base_uri": "https://localhost:8080/"
        },
        "id": "GVxYpcmbfKBi",
        "outputId": "4b33238e-a416-4452-9eb6-0472b68ab4b4"
      },
      "execution_count": 22,
      "outputs": [
        {
          "output_type": "stream",
          "name": "stdout",
          "text": [
            "Enter base value : 6\n",
            "Enter exponent value : 2\n",
            "Power of the number : 36\n"
          ]
        }
      ]
    },
    {
      "cell_type": "markdown",
      "source": [
        "10.Create a function to find the greatest common divisor (GCD) of two numbers using Euclidean algorithm."
      ],
      "metadata": {
        "id": "vNVmr6zofXn5"
      }
    },
    {
      "cell_type": "code",
      "source": [
        "def gcd(a,b):\n",
        "    while b!=0:\n",
        "        a,b=b,a%b\n",
        "    return a\n",
        "a=int(input(\"Enter first number : \"))\n",
        "b=int(input(\"Enter second number : \"))\n",
        "print(f\"Greatest common divisor of {a} and {b} : {gcd(a,b)}\")"
      ],
      "metadata": {
        "colab": {
          "base_uri": "https://localhost:8080/"
        },
        "id": "IgkltpUmfUfH",
        "outputId": "581e7b23-af15-422d-e494-a65b7e64216e"
      },
      "execution_count": 23,
      "outputs": [
        {
          "output_type": "stream",
          "name": "stdout",
          "text": [
            "Enter first number : 5\n",
            "Enter second number : 2\n",
            "Greatest common divisor of 5 and 2 : 1\n"
          ]
        }
      ]
    },
    {
      "cell_type": "markdown",
      "source": [
        "11.Create a 1D array of numbers from 0 to 9."
      ],
      "metadata": {
        "id": "Ff0dF2P9fp16"
      }
    },
    {
      "cell_type": "code",
      "source": [
        "import numpy as np\n",
        "arr1=np.arange(10)\n",
        "arr1"
      ],
      "metadata": {
        "colab": {
          "base_uri": "https://localhost:8080/"
        },
        "id": "pfh3uDqyfnCZ",
        "outputId": "21fe7528-0065-4496-ad44-aea2e439dc7f"
      },
      "execution_count": 25,
      "outputs": [
        {
          "output_type": "execute_result",
          "data": {
            "text/plain": [
              "array([0, 1, 2, 3, 4, 5, 6, 7, 8, 9])"
            ]
          },
          "metadata": {},
          "execution_count": 25
        }
      ]
    },
    {
      "cell_type": "markdown",
      "source": [
        "12.Create a 2D array of shape (3, 3) with values ranging from 1 to 9.\n",
        "\n",
        "\n"
      ],
      "metadata": {
        "id": "6ysw8Wprf5rn"
      }
    },
    {
      "cell_type": "code",
      "source": [
        "arr2=np.arange(1,10)\n",
        "arr2=arr2.reshape(3,3)\n",
        "arr2"
      ],
      "metadata": {
        "colab": {
          "base_uri": "https://localhost:8080/"
        },
        "id": "5jYcb2tHf2hU",
        "outputId": "2f06307c-ecf0-49d0-84ab-e7bdc7356638"
      },
      "execution_count": 26,
      "outputs": [
        {
          "output_type": "execute_result",
          "data": {
            "text/plain": [
              "array([[1, 2, 3],\n",
              "       [4, 5, 6],\n",
              "       [7, 8, 9]])"
            ]
          },
          "metadata": {},
          "execution_count": 26
        }
      ]
    },
    {
      "cell_type": "markdown",
      "source": [
        "13.Create a 3x3 identity matrix."
      ],
      "metadata": {
        "id": "PilYUQNega0j"
      }
    },
    {
      "cell_type": "code",
      "source": [
        "arr3=np.eye(3)\n",
        "arr3"
      ],
      "metadata": {
        "colab": {
          "base_uri": "https://localhost:8080/"
        },
        "id": "l1_6o0LngZK7",
        "outputId": "ba460859-4b0b-471c-a4bd-02bedc921016"
      },
      "execution_count": 27,
      "outputs": [
        {
          "output_type": "execute_result",
          "data": {
            "text/plain": [
              "array([[1., 0., 0.],\n",
              "       [0., 1., 0.],\n",
              "       [0., 0., 1.]])"
            ]
          },
          "metadata": {},
          "execution_count": 27
        }
      ]
    },
    {
      "cell_type": "markdown",
      "source": [
        "14.Create an array of 10 random numbers and find the mean and standard deviation."
      ],
      "metadata": {
        "id": "RCtdwI-Fgv1d"
      }
    },
    {
      "cell_type": "code",
      "source": [
        "arr4=np.random.randint(10,101,10)\n",
        "print(arr4)\n",
        "print(f\"mean : {arr4.mean()}\")\n",
        "print(f\"standard deviation : {arr4.std()}\")"
      ],
      "metadata": {
        "colab": {
          "base_uri": "https://localhost:8080/"
        },
        "id": "3mAT6iiWgiMz",
        "outputId": "74da152a-07fa-4701-aeee-a461a95ada00"
      },
      "execution_count": 28,
      "outputs": [
        {
          "output_type": "stream",
          "name": "stdout",
          "text": [
            "[34 68 81 15 26 47 72 56 77 34]\n",
            "mean : 51.0\n",
            "standard deviation : 22.013632140108093\n"
          ]
        }
      ]
    },
    {
      "cell_type": "markdown",
      "source": [
        "15.Create a 1D array of numbers from 10 to 20 and extract the first 5 elements."
      ],
      "metadata": {
        "id": "ynmXzRfRhAcT"
      }
    },
    {
      "cell_type": "code",
      "source": [
        "arr5=np.arange(10,21)\n",
        "arr5"
      ],
      "metadata": {
        "colab": {
          "base_uri": "https://localhost:8080/"
        },
        "id": "Wac0QDbBg2wV",
        "outputId": "ed683dec-7b19-40f6-9c10-11e669c79208"
      },
      "execution_count": 29,
      "outputs": [
        {
          "output_type": "execute_result",
          "data": {
            "text/plain": [
              "array([10, 11, 12, 13, 14, 15, 16, 17, 18, 19, 20])"
            ]
          },
          "metadata": {},
          "execution_count": 29
        }
      ]
    },
    {
      "cell_type": "markdown",
      "source": [
        "16.Create a 2D array of shape (4, 4) and extract the second row."
      ],
      "metadata": {
        "id": "IHyu9c_ohNmP"
      }
    },
    {
      "cell_type": "code",
      "source": [
        "arr6=np.arange(2,33,2)\n",
        "arr6=arr6.reshape(4,4)\n",
        "arr6"
      ],
      "metadata": {
        "colab": {
          "base_uri": "https://localhost:8080/"
        },
        "id": "bmyuF3YVhLmE",
        "outputId": "05313280-0ffe-4c26-91ce-5122a4db528e"
      },
      "execution_count": 34,
      "outputs": [
        {
          "output_type": "execute_result",
          "data": {
            "text/plain": [
              "array([[ 2,  4,  6,  8],\n",
              "       [10, 12, 14, 16],\n",
              "       [18, 20, 22, 24],\n",
              "       [26, 28, 30, 32]])"
            ]
          },
          "metadata": {},
          "execution_count": 34
        }
      ]
    },
    {
      "cell_type": "code",
      "source": [
        "arr6[1]"
      ],
      "metadata": {
        "colab": {
          "base_uri": "https://localhost:8080/"
        },
        "id": "VwoSRkxgiBvU",
        "outputId": "a1ae7a7d-8a32-4a36-e07a-897e24799635"
      },
      "execution_count": 35,
      "outputs": [
        {
          "output_type": "execute_result",
          "data": {
            "text/plain": [
              "array([10, 12, 14, 16])"
            ]
          },
          "metadata": {},
          "execution_count": 35
        }
      ]
    },
    {
      "cell_type": "markdown",
      "source": [
        "17.Create two 1D arrays of length 5 with values ranging from 1 to 5 and 6 to 10. Perform element-wise addition."
      ],
      "metadata": {
        "id": "u5pE-3w5h2Fu"
      }
    },
    {
      "cell_type": "code",
      "source": [
        "arr7=np.arange(1,6)\n",
        "arr7\n"
      ],
      "metadata": {
        "colab": {
          "base_uri": "https://localhost:8080/"
        },
        "id": "hcnEzKbOheyk",
        "outputId": "7d8dd8ac-40c8-4842-e295-d4305111e3ee"
      },
      "execution_count": 36,
      "outputs": [
        {
          "output_type": "execute_result",
          "data": {
            "text/plain": [
              "array([1, 2, 3, 4, 5])"
            ]
          },
          "metadata": {},
          "execution_count": 36
        }
      ]
    },
    {
      "cell_type": "code",
      "source": [
        "arr8=np.arange(6,11)\n",
        "arr8"
      ],
      "metadata": {
        "colab": {
          "base_uri": "https://localhost:8080/"
        },
        "id": "965_g5fshnb1",
        "outputId": "bd7310ac-8085-47c0-8c50-0d80b5ac5c4e"
      },
      "execution_count": 37,
      "outputs": [
        {
          "output_type": "execute_result",
          "data": {
            "text/plain": [
              "array([ 6,  7,  8,  9, 10])"
            ]
          },
          "metadata": {},
          "execution_count": 37
        }
      ]
    },
    {
      "cell_type": "code",
      "source": [
        "arr=arr7+arr8\n",
        "arr"
      ],
      "metadata": {
        "colab": {
          "base_uri": "https://localhost:8080/"
        },
        "id": "IofzUM4uiN0X",
        "outputId": "45671d0f-a061-488c-a928-df75917c1a1b"
      },
      "execution_count": 38,
      "outputs": [
        {
          "output_type": "execute_result",
          "data": {
            "text/plain": [
              "array([ 7,  9, 11, 13, 15])"
            ]
          },
          "metadata": {},
          "execution_count": 38
        }
      ]
    },
    {
      "cell_type": "markdown",
      "source": [
        "18.Create a 1D array of 10 random numbers and replace all elements less than 0.5 with 0."
      ],
      "metadata": {
        "id": "8iJUN5yaiT5Z"
      }
    },
    {
      "cell_type": "code",
      "source": [
        "arr9=np.random.rand(10)\n",
        "arr9"
      ],
      "metadata": {
        "colab": {
          "base_uri": "https://localhost:8080/"
        },
        "id": "ug2tH1kDiS7a",
        "outputId": "6f484e35-e1c5-49cc-f345-326fffd002c5"
      },
      "execution_count": 39,
      "outputs": [
        {
          "output_type": "execute_result",
          "data": {
            "text/plain": [
              "array([0.45802712, 0.86117594, 0.72392168, 0.19839831, 0.62084674,\n",
              "       0.59203386, 0.64815957, 0.51189553, 0.36105411, 0.18035374])"
            ]
          },
          "metadata": {},
          "execution_count": 39
        }
      ]
    },
    {
      "cell_type": "code",
      "source": [
        "arr9[arr9<0.5]=0\n",
        "arr9\n"
      ],
      "metadata": {
        "colab": {
          "base_uri": "https://localhost:8080/"
        },
        "id": "MbwlfXzqibrx",
        "outputId": "52557de7-6127-4d6d-baab-41eb091784f2"
      },
      "execution_count": 40,
      "outputs": [
        {
          "output_type": "execute_result",
          "data": {
            "text/plain": [
              "array([0.        , 0.86117594, 0.72392168, 0.        , 0.62084674,\n",
              "       0.59203386, 0.64815957, 0.51189553, 0.        , 0.        ])"
            ]
          },
          "metadata": {},
          "execution_count": 40
        }
      ]
    },
    {
      "cell_type": "code",
      "source": [],
      "metadata": {
        "id": "5GxVq1vjilhc"
      },
      "execution_count": null,
      "outputs": []
    }
  ]
}
