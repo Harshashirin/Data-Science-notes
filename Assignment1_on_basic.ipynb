{
  "nbformat": 4,
  "nbformat_minor": 0,
  "metadata": {
    "colab": {
      "provenance": []
    },
    "kernelspec": {
      "name": "python3",
      "display_name": "Python 3"
    },
    "language_info": {
      "name": "python"
    }
  },
  "cells": [
    {
      "cell_type": "markdown",
      "source": [
        "1. Write a Python program which accepts the radius of a circle from the user and compute the area.\n",
        "**Sample input:** Enter the radius: 3\n",
        "**Sample output:** Area of Circle is 28.59999999999"
      ],
      "metadata": {
        "id": "HvQpicQlzP9G"
      }
    },
    {
      "cell_type": "code",
      "source": [
        "def circle_area (radius):\n",
        "    pi = 3.14159\n",
        "    area = pi * radius ** 2\n",
        "    return area\n",
        "n1=int(input('Enter the radius '))\n",
        "a = circle_area(n1)\n",
        "print(\"Area of the circle is:\", a)"
      ],
      "metadata": {
        "colab": {
          "base_uri": "https://localhost:8080/"
        },
        "id": "Ho18VqBdQn7k",
        "outputId": "b52cbb07-83f1-4878-ac23-458b40c1daad"
      },
      "execution_count": 6,
      "outputs": [
        {
          "output_type": "stream",
          "name": "stdout",
          "text": [
            "Enter the radius 3\n",
            "Area of the circle is: 28.27431\n"
          ]
        }
      ]
    },
    {
      "cell_type": "markdown",
      "source": [
        "2. Write a Python Program to accept the details of a student like name, roll\n",
        "number and mark and display it.\n",
        "Sample input: Enter the name: Anisha,\n",
        "Enter the roll number: 21,\n",
        "Enter the mark: 78,\n",
        "Sample output: Name: Anisha,\n",
        "Roll No: 21,\n",
        "Mark: 78"
      ],
      "metadata": {
        "id": "ujVs3kXISz0X"
      }
    },
    {
      "cell_type": "code",
      "source": [
        "name=input('Enter the name: ')\n",
        "roll_no=int(input('Enter the roll number: '))\n",
        "mark=int(input('Enter the mark: '))\n",
        "print(f\"Name:{name}\\nRoll No: {roll_no}\\nMark: {mark}\")"
      ],
      "metadata": {
        "colab": {
          "base_uri": "https://localhost:8080/"
        },
        "id": "nxvHzXktSsnB",
        "outputId": "80d14b04-4ad9-49ae-8548-6e4a376f9443"
      },
      "execution_count": 7,
      "outputs": [
        {
          "output_type": "stream",
          "name": "stdout",
          "text": [
            "Enter the name: Anisha\n",
            "Enter the roll number: 21\n",
            "Enter the mark: 78\n",
            "Name:Anisha\n",
            "Roll No: 21\n",
            "Mark: 78\n"
          ]
        }
      ]
    },
    {
      "cell_type": "markdown",
      "source": [
        "3. Write a Python program to get the largest number from a list.\n",
        "Sample input: 12, 3, 47, 10,\n",
        "Sample output: 47 is the largest number."
      ],
      "metadata": {
        "id": "c3dprbOuUFGD"
      }
    },
    {
      "cell_type": "code",
      "source": [
        "def largest(num):\n",
        "     largest = num[0]\n",
        "     for n in num:\n",
        "        if n > largest:\n",
        "            largest = n\n",
        "     return largest\n",
        "s=int(input('What is the size of list '))\n",
        "d=[]\n",
        "su=0\n",
        "for i in range(s):\n",
        "  num=int(input('Number= '))\n",
        "  d.append(num)\n",
        "print(d)\n",
        "l=largest(d)\n",
        "print(f'{l} is the largest number')"
      ],
      "metadata": {
        "colab": {
          "base_uri": "https://localhost:8080/"
        },
        "id": "3Naeqe0HTqx5",
        "outputId": "979bca6d-352c-4dff-fae1-226f704dfcb7"
      },
      "execution_count": 8,
      "outputs": [
        {
          "output_type": "stream",
          "name": "stdout",
          "text": [
            "What is the size of list 4\n",
            "Number= 12\n",
            "Number= 3\n",
            "Number= 47\n",
            "Number= 10\n",
            "[12, 3, 47, 10]\n",
            "47 is the largest number\n"
          ]
        }
      ]
    },
    {
      "cell_type": "markdown",
      "source": [
        "4. Given a range of first 10 numbers, write a Python program to iterate from start number to the end number and print the sum of the current number and previous number.\n",
        "Sample input: 1….10,\n",
        "Sample output: Current Number 1 Previous Number 0 Sum: 1 Current Number 2 Previous Number 1 Sum: 3 Current Number 3 Previous Number 2 Sum: 5… Current Number 10 Previous Number 9 Sum: 19"
      ],
      "metadata": {
        "id": "EgGpHp1ZUqPD"
      }
    },
    {
      "cell_type": "code",
      "source": [
        "def sum(f,l):\n",
        "    num1 = f -1\n",
        "    for num2 in range(f, l +1):\n",
        "        sum = num2 + num1\n",
        "        print(f\"Current Number {num2} Previous Number {num1} Sum: {sum}\")\n",
        "        num1 = num2\n",
        "first=int(input('First number= '))\n",
        "end=int(input('Last number= '))\n",
        "sum(first,end)"
      ],
      "metadata": {
        "colab": {
          "base_uri": "https://localhost:8080/"
        },
        "id": "Vwf-Jq3kUV-S",
        "outputId": "419efd41-6aed-4dc2-d12a-d46262758d0b"
      },
      "execution_count": 9,
      "outputs": [
        {
          "output_type": "stream",
          "name": "stdout",
          "text": [
            "First number= 5\n",
            "Last number= 11\n",
            "Current Number 5 Previous Number 4 Sum: 9\n",
            "Current Number 6 Previous Number 5 Sum: 11\n",
            "Current Number 7 Previous Number 6 Sum: 13\n",
            "Current Number 8 Previous Number 7 Sum: 15\n",
            "Current Number 9 Previous Number 8 Sum: 17\n",
            "Current Number 10 Previous Number 9 Sum: 19\n",
            "Current Number 11 Previous Number 10 Sum: 21\n"
          ]
        }
      ]
    },
    {
      "cell_type": "markdown",
      "source": [
        "\n",
        "5. Write a Python program to print only those numbers which are divisible of 5.\n",
        "Sample input: 10, 20,33,46,55 Sample output: 10, 20, 55"
      ],
      "metadata": {
        "id": "5fWbS4mtVtSm"
      }
    },
    {
      "cell_type": "code",
      "source": [
        "def div(s,e):\n",
        " for i in range(s,e+1):\n",
        "  if(i%5==0):\n",
        "    print(i,end=\" \")\n",
        "s=int(input('What is the starting range '))\n",
        "e=int(input('What is the ending range '))\n",
        "div(s,e)"
      ],
      "metadata": {
        "colab": {
          "base_uri": "https://localhost:8080/"
        },
        "id": "YMV00RpSVRpu",
        "outputId": "27ad3b43-08d0-4cdc-de90-5ee3db73fd51"
      },
      "execution_count": 10,
      "outputs": [
        {
          "output_type": "stream",
          "name": "stdout",
          "text": [
            "What is the starting range 10\n",
            "What is the ending range 55\n",
            "10 15 20 25 30 35 40 45 50 55 "
          ]
        }
      ]
    },
    {
      "cell_type": "markdown",
      "source": [
        "6. Write a Python program to check whether a number is prime or not. Sample input: Enter the number: 3,\n",
        "Sample output: 3 is a prime number."
      ],
      "metadata": {
        "id": "_mXcqNw8WLAf"
      }
    },
    {
      "cell_type": "code",
      "source": [
        "prime=int(input('Enter a number '))\n",
        "def prm(p):\n",
        " for i in range(2,p):\n",
        "   if(p%i==0):\n",
        "    return print(f'{p} is not a prime')\n",
        "    break\n",
        " else:\n",
        "  return print(f'{p} is a prime')\n",
        "prm(prime)"
      ],
      "metadata": {
        "colab": {
          "base_uri": "https://localhost:8080/"
        },
        "id": "Qk6c-BSfV-8B",
        "outputId": "76e37f93-ff23-4832-ff81-2815f7e28446"
      },
      "execution_count": 11,
      "outputs": [
        {
          "output_type": "stream",
          "name": "stdout",
          "text": [
            "Enter a number 3\n",
            "3 is a prime\n"
          ]
        }
      ]
    },
    {
      "cell_type": "markdown",
      "source": [
        "7. Write a Python program to reverse a list using for loop.\n",
        "Sample input: 10,40,30,70...\n",
        "Sample output: 70,30,40,10"
      ],
      "metadata": {
        "id": "hq3YN1FbWc65"
      }
    },
    {
      "cell_type": "code",
      "source": [
        "def reverse(list1):\n",
        "    rlist = []\n",
        "    l=len(list1)\n",
        "    for i in range(l-1,-1, -1):\n",
        "        rlist.append(list1[i])\n",
        "    return rlist\n",
        "s=int(input('What is the size of list '))\n",
        "list1=[]\n",
        "su=0\n",
        "for i in range(s):\n",
        "  num=int(input('Number= '))\n",
        "  list1.append(num)\n",
        "list2 = reverse(list1)\n",
        "print(\"Original List:\", list1)\n",
        "print(\"Reversed List:\", list2)\n"
      ],
      "metadata": {
        "colab": {
          "base_uri": "https://localhost:8080/"
        },
        "id": "LgnS7fLoWY0-",
        "outputId": "dc2e0586-8fa4-4a80-9525-ea13a7acbf49"
      },
      "execution_count": 12,
      "outputs": [
        {
          "output_type": "stream",
          "name": "stdout",
          "text": [
            "What is the size of list 4\n",
            "Number= 10\n",
            "Number= 40\n",
            "Number= 30\n",
            "Number= 70\n",
            "Original List: [10, 40, 30, 70]\n",
            "Reversed List: [70, 30, 40, 10]\n"
          ]
        }
      ]
    },
    {
      "cell_type": "markdown",
      "source": [
        "8. Write a Python program to print the following pattern.\n",
        "*,\n",
        "**,\n",
        "***,\n",
        "****\n"
      ],
      "metadata": {
        "id": "g76v4vuSW-Id"
      }
    },
    {
      "cell_type": "code",
      "source": [
        "def pattern(row):\n",
        "    for i in range(1, row + 1):\n",
        "        for j in range(1, i + 1):\n",
        "            print('*', end='')\n",
        "        print('\\n')\n",
        "pattern(4)\n"
      ],
      "metadata": {
        "colab": {
          "base_uri": "https://localhost:8080/"
        },
        "id": "6j1carLnWqhC",
        "outputId": "58687471-e0c5-4ad0-cb1a-ec8623b45f8c"
      },
      "execution_count": 13,
      "outputs": [
        {
          "output_type": "stream",
          "name": "stdout",
          "text": [
            "*\n",
            "\n",
            "**\n",
            "\n",
            "***\n",
            "\n",
            "****\n",
            "\n"
          ]
        }
      ]
    },
    {
      "cell_type": "markdown",
      "source": [
        "9. Write a Python program to find the maximum of three numbers\n",
        "Sample input: 34,12,7....\n",
        "Sample output: 34"
      ],
      "metadata": {
        "id": "sD7lYFqyXeXz"
      }
    },
    {
      "cell_type": "code",
      "source": [
        "def maximum(num1, num2, num3):\n",
        "    result = max(num1, num2, num3)\n",
        "    return result\n",
        "n1=int(input('Enter a number '))\n",
        "n2=int(input('Enter a number '))\n",
        "n3=int(input('Enter a number '))\n",
        "m = maximum(n1, n2, n3)\n",
        "print(\"Maximum number is:\", m)"
      ],
      "metadata": {
        "colab": {
          "base_uri": "https://localhost:8080/"
        },
        "id": "bNWJE9d-Xb8w",
        "outputId": "07e36f71-e1dd-4fa2-8ad8-4aa92ee92c81"
      },
      "execution_count": 14,
      "outputs": [
        {
          "output_type": "stream",
          "name": "stdout",
          "text": [
            "Enter a number 34\n",
            "Enter a number 12\n",
            "Enter a number 7\n",
            "Maximum number is: 34\n"
          ]
        }
      ]
    },
    {
      "cell_type": "markdown",
      "source": [
        "10. Write a Python program to construct the following pattern, using a nested for loop.\n",
        "*\n",
        "**\n",
        "***\n",
        "****\n",
        "*****\n",
        "****\n",
        "***\n",
        "**\n",
        "*"
      ],
      "metadata": {
        "id": "WAdTvvfhXwel"
      }
    },
    {
      "cell_type": "code",
      "source": [
        "def pattern(row):\n",
        "    for i in range(1, row + 1):\n",
        "        for j in range(1, i + 1):\n",
        "            print('*', end='')\n",
        "        print('\\n')\n",
        "    for i in range(row - 1, 0, -1):\n",
        "        for j in range(1, i + 1):\n",
        "            print('*', end='')\n",
        "        print('\\n')\n",
        "pattern(5)"
      ],
      "metadata": {
        "colab": {
          "base_uri": "https://localhost:8080/"
        },
        "id": "fVbUzt07XpYm",
        "outputId": "81c2b1b3-de6a-48f6-ce39-bc952b095715"
      },
      "execution_count": 15,
      "outputs": [
        {
          "output_type": "stream",
          "name": "stdout",
          "text": [
            "*\n",
            "\n",
            "**\n",
            "\n",
            "***\n",
            "\n",
            "****\n",
            "\n",
            "*****\n",
            "\n",
            "****\n",
            "\n",
            "***\n",
            "\n",
            "**\n",
            "\n",
            "*\n",
            "\n"
          ]
        }
      ]
    },
    {
      "cell_type": "code",
      "source": [],
      "metadata": {
        "id": "SOvPPUOtX5yJ"
      },
      "execution_count": null,
      "outputs": []
    }
  ]
}